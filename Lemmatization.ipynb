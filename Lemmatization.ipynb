{
 "cells": [
  {
   "cell_type": "markdown",
   "metadata": {},
   "source": [
    "## Text Pre-processing (Lemmatization)"
   ]
  },
  {
   "cell_type": "markdown",
   "metadata": {},
   "source": [
    "Lemmatization is the process of reducing a word to its base or dictionary form, known as the lemma, while considering its meaning and grammatical context. Unlike stemming, lemmatization ensures that the reduced form is a valid word in the language.\n",
    "\n",
    "For example:\n",
    "Better → good (adjective) ,\n",
    "Running → run (verb)"
   ]
  },
  {
   "cell_type": "code",
   "execution_count": 1,
   "metadata": {},
   "outputs": [],
   "source": [
    "from nltk.stem import WordNetLemmatizer"
   ]
  },
  {
   "cell_type": "code",
   "execution_count": 2,
   "metadata": {},
   "outputs": [],
   "source": [
    "lemmatizer = WordNetLemmatizer()"
   ]
  },
  {
   "cell_type": "code",
   "execution_count": 3,
   "metadata": {},
   "outputs": [
    {
     "name": "stdout",
     "output_type": "stream",
     "text": [
      "Without pos tag :  running\n",
      "With pos tag :  run\n"
     ]
    }
   ],
   "source": [
    "# Pos tags are needed for lemmatization to work properly for words with multiple meanings \n",
    "# like 'running' (noun or verb) or 'better' (adjective or adverb) etc.\n",
    "# Noun -n\n",
    "# Verb -v\n",
    "# Adjective -a\n",
    "# Adverb -r\n",
    "\n",
    "print(\"Without pos tag : \",lemmatizer.lemmatize('running'))\n",
    "print(\"With pos tag : \",lemmatizer.lemmatize('running',pos='v'))"
   ]
  },
  {
   "cell_type": "code",
   "execution_count": 5,
   "metadata": {},
   "outputs": [],
   "source": [
    "words = ['run', 'runner', 'running', 'ran', 'runs', 'easily', 'fairly']"
   ]
  },
  {
   "cell_type": "code",
   "execution_count": 8,
   "metadata": {},
   "outputs": [
    {
     "name": "stdout",
     "output_type": "stream",
     "text": [
      "run->run\n",
      "runner->runner\n",
      "running->running\n",
      "ran->ran\n",
      "runs->run\n",
      "easily->easily\n",
      "fairly->fairly\n"
     ]
    }
   ],
   "source": [
    "for word in words :\n",
    "    print(word+'->'+lemmatizer.lemmatize(word))"
   ]
  }
 ],
 "metadata": {
  "kernelspec": {
   "display_name": "base",
   "language": "python",
   "name": "python3"
  },
  "language_info": {
   "codemirror_mode": {
    "name": "ipython",
    "version": 3
   },
   "file_extension": ".py",
   "mimetype": "text/x-python",
   "name": "python",
   "nbconvert_exporter": "python",
   "pygments_lexer": "ipython3",
   "version": "3.11.5"
  }
 },
 "nbformat": 4,
 "nbformat_minor": 2
}
