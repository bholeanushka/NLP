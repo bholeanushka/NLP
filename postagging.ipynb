{
 "cells": [
  {
   "cell_type": "markdown",
   "metadata": {},
   "source": [
    "## POS Tagging"
   ]
  },
  {
   "cell_type": "markdown",
   "metadata": {},
   "source": [
    "POS tagging is the process of assigning a grammatical category (such as noun, verb, adjective, etc.) to each word in a sentence based on its context. This helps in understanding the structure and meaning of the text, which is crucial for many NLP tasks like text analysis, sentiment analysis, and machine translation.\n",
    "\n",
    "\n",
    "POS tags are typically based on a standard like the Penn Treebank POS Tagset. Below is a list of some commonly used tags :\n"
   ]
  },
  {
   "cell_type": "markdown",
   "metadata": {},
   "source": [
    "| **Tag**   | **Description**                            | **Example**               |\n",
    "|-----------|--------------------------------------------|---------------------------|\n",
    "| **CC**    | Coordinating conjunction                  | and, or, but              |\n",
    "| **CD**    | Cardinal number                           | one, two, 3, 4.5          |\n",
    "| **DT**    | Determiner                                | the, a, an, this          |\n",
    "| **EX**    | Existential there                        | there (is/are)            |\n",
    "| **FW**    | Foreign word                              | d'accord, et cetera       |\n",
    "| **IN**    | Preposition or subordinating conjunction | in, on, while, because    |\n",
    "| **JJ**    | Adjective                                | big, small, beautiful     |\n",
    "| **JJR**   | Adjective, comparative                   | bigger, smaller           |\n",
    "| **JJS**   | Adjective, superlative                   | biggest, smallest         |\n",
    "| **LS**    | List item marker                         | 1., A., a)                |\n",
    "| **MD**    | Modal                                    | can, should, might        |\n",
    "| **NN**    | Noun, singular or mass                   | cat, book, car            |\n",
    "| **NNS**   | Noun, plural                             | cats, books, cars         |\n",
    "| **NNP**   | Proper noun, singular                    | John, London              |\n",
    "| **NNPS**  | Proper noun, plural                      | Americans, Rockies        |\n",
    "| **PDT**   | Predeterminer                            | all, both, half           |\n",
    "| **POS**   | Possessive ending                        | 's, '                     |\n",
    "| **PRP**   | Personal pronoun                         | I, you, he, she           |\n",
    "| **PRP$**  | Possessive pronoun                       | my, your, his, her        |\n",
    "| **RB**    | Adverb                                   | quickly, very, easily     |\n",
    "| **RBR**   | Adverb, comparative                      | faster, harder            |\n",
    "| **RBS**   | Adverb, superlative                      | fastest, hardest          |\n",
    "| **RP**    | Particle                                 | up, off, over             |\n",
    "| **TO**    | \"to\"                                     | to (go, play, etc.)       |\n",
    "| **UH**    | Interjection                             | wow, uh, oh               |\n",
    "| **VB**    | Verb, base form                          | run, play, eat            |\n",
    "| **VBD**   | Verb, past tense                         | ran, played, ate          |\n",
    "| **VBG**   | Verb, gerund/present participle          | running, playing          |\n",
    "| **VBN**   | Verb, past participle                    | run, played, eaten        |\n",
    "| **VBP**   | Verb, non-3rd person singular present    | run, play, eat            |\n",
    "| **VBZ**   | Verb, 3rd person singular present        | runs, plays, eats         |\n",
    "| **WDT**   | Wh-determiner                            | which, that               |\n",
    "| **WP**    | Wh-pronoun                               | who, what, whom           |\n",
    "| **WP$**   | Possessive wh-pronoun                    | whose                     |\n",
    "| **WRB**   | Wh-adverb                                | where, when, why          |\n"
   ]
  },
  {
   "cell_type": "code",
   "execution_count": 1,
   "metadata": {},
   "outputs": [],
   "source": [
    "paragraph= \"\"\"I have three visions for India. In 3000 years of our history people from all over the world have come and invaded us, captured our lands, conquered our minds. From Alexander onwards the Greeks, the Turks, the Moguls, the Portuguese, the British, the French, the Dutch, all of them came and looted us, took over what was ours. Yet we have not done this to any other nation. We have not conquered anyone. We have not grabbed their land, their culture and their history and tried to enforce our way of life on them. Why? Because we respect the freedom of others. That is why my FIRST VISION is that of FREEDOM. I believe that India got its first vision of this in 1857, when we started the war of Independence. It is this freedom that we must protect and nurture and build on. If we are not free, no one will respect us.\n",
    "We have 10 percent growth rate in most areas. Our poverty levels are falling. Our achievements are being globally recognised today. Yet we lack the self-confidence to see ourselves as a developed nation, self-reliant and self-assured. Isn’t this incorrect? MY SECOND VISION for India is DEVELOPMENT. For fifty years we have been a developing nation. It is time we see ourselves as a developed nation. We are among top five nations in the world in terms of GDP.\n",
    "I have a THIRD VISION. India must stand up to the world. Because I believe that unless India stands up to the world, no one will respect us. Only strength respects strength. We must be strong not only as a military power but also as an economic power. Both must go hand-in-hand. My good fortune was to have worked with three great minds. Dr.Vikram Sarabhai, of the Dept. of Space, Professor Satish Dhawan, who succeeded him and Dr. Brahm Prakash, father of nuclear material. I was lucky to have worked with all three of them closely and consider this the great opportunity of my life.\n",
    "I was in Hyderabad giving this lecture, when a 14 year-old girl asked me for my autograph. I asked her what her goal in life is. She replied: I want to live in a developed India. For her, you and I will have to build this developed India. You must proclaim India is not an underdeveloped nation; it is a highly developed nation.\n",
    "You say that our government is inefficient. You say that our laws are too old. You say that the municipality does not pick up the garbage. You say that the phones don’t work, the railways are a joke, the airline is the worst in the world, and mails never reach their destination. You say that our country has been fed to the dogs and is the absolute pits. You say, say and say. What do you do about it?\n",
    "Dear Indians, I am echoing J.F.Kennedy’s words to his fellow Americans to relate to Indians ……. “ASK WHAT WE CAN DO FOR INDIA AND DO WHAT HAS TO BE DONE TO MAKE INDIA WHAT AMERICA AND OTHER WESTERN COUNTRIES ARE TODAY.” \"\"\""
   ]
  },
  {
   "cell_type": "code",
   "execution_count": 4,
   "metadata": {},
   "outputs": [],
   "source": [
    "from nltk.tokenize import sent_tokenize\n",
    "from nltk.corpus import stopwords\n",
    "from nltk.tokenize import word_tokenize"
   ]
  },
  {
   "cell_type": "code",
   "execution_count": 5,
   "metadata": {},
   "outputs": [
    {
     "name": "stderr",
     "output_type": "stream",
     "text": [
      "[nltk_data] Downloading package stopwords to\n",
      "[nltk_data]     C:\\Users\\hp\\AppData\\Roaming\\nltk_data...\n",
      "[nltk_data]   Package stopwords is already up-to-date!\n"
     ]
    },
    {
     "data": {
      "text/plain": [
       "True"
      ]
     },
     "execution_count": 5,
     "metadata": {},
     "output_type": "execute_result"
    }
   ],
   "source": [
    "import nltk\n",
    "nltk.download('stopwords')"
   ]
  },
  {
   "cell_type": "code",
   "execution_count": 3,
   "metadata": {},
   "outputs": [],
   "source": [
    "sentences = sent_tokenize(paragraph)"
   ]
  },
  {
   "cell_type": "code",
   "execution_count": 6,
   "metadata": {},
   "outputs": [
    {
     "name": "stdout",
     "output_type": "stream",
     "text": [
      "[('I', 'PRP'), ('three', 'CD'), ('visions', 'NNS'), ('India', 'NNP')]\n",
      "\n",
      "\n",
      "[('In', 'IN'), ('3000', 'CD'), ('years', 'NNS'), ('history', 'NN'), ('people', 'NNS'), ('world', 'NN'), ('come', 'VBP'), ('invaded', 'VBN'), ('us', 'PRP'), ('captured', 'JJ'), ('lands', 'NNS'), ('conquered', 'VBD'), ('minds', 'NNS')]\n",
      "\n",
      "\n",
      "[('From', 'IN'), ('Alexander', 'NNP'), ('onwards', 'NNS'), ('Greeks', 'NNP'), ('Turks', 'NNP'), ('Moguls', 'NNP'), ('Portuguese', 'NNP'), ('British', 'NNP'), ('French', 'NNP'), ('Dutch', 'NNP'), ('came', 'VBD'), ('looted', 'VBD'), ('us', 'PRP'), ('took', 'VBD')]\n",
      "\n",
      "\n",
      "[('Yet', 'RB'), ('done', 'VBN'), ('nation', 'NN')]\n",
      "\n",
      "\n",
      "[('We', 'PRP'), ('conquered', 'VBD'), ('anyone', 'NN')]\n",
      "\n",
      "\n",
      "[('We', 'PRP'), ('grabbed', 'VBD'), ('land', 'JJ'), ('culture', 'NN'), ('history', 'NN'), ('tried', 'VBD'), ('enforce', 'JJ'), ('way', 'NN'), ('life', 'NN')]\n",
      "\n",
      "\n",
      "[('Why', 'WRB')]\n",
      "\n",
      "\n",
      "[('Because', 'IN'), ('respect', 'NN'), ('freedom', 'NN'), ('others', 'NNS')]\n",
      "\n",
      "\n",
      "[('That', 'DT'), ('FIRST', 'NNP'), ('VISION', 'NNP'), ('FREEDOM', 'NNP')]\n",
      "\n",
      "\n",
      "[('I', 'PRP'), ('believe', 'VBP'), ('India', 'NNP'), ('got', 'VBD'), ('first', 'JJ'), ('vision', 'NN'), ('1857', 'CD'), ('started', 'VBD'), ('war', 'NN'), ('Independence', 'NN')]\n",
      "\n",
      "\n",
      "[('It', 'PRP'), ('freedom', 'NN'), ('must', 'MD'), ('protect', 'VB'), ('nurture', 'NN'), ('build', 'NN')]\n",
      "\n",
      "\n",
      "[('If', 'IN'), ('free', 'JJ'), ('one', 'CD'), ('respect', 'NN'), ('us', 'PRP')]\n",
      "\n",
      "\n",
      "[('We', 'PRP'), ('10', 'CD'), ('percent', 'JJ'), ('growth', 'NN'), ('rate', 'NN'), ('areas', 'NNS')]\n",
      "\n",
      "\n",
      "[('Our', 'PRP$'), ('poverty', 'NN'), ('levels', 'NNS'), ('falling', 'VBG')]\n",
      "\n",
      "\n",
      "[('Our', 'PRP$'), ('achievements', 'NNS'), ('globally', 'RB'), ('recognised', 'VBD'), ('today', 'NN')]\n",
      "\n",
      "\n",
      "[('Yet', 'CC'), ('lack', 'NN'), ('see', 'VBP'), ('developed', 'VBN'), ('nation', 'NN')]\n",
      "\n",
      "\n",
      "[('Isn', 'NNP'), ('incorrect', 'NN')]\n",
      "\n",
      "\n",
      "[('MY', 'PRP$'), ('SECOND', 'JJ'), ('VISION', 'NNP'), ('India', 'NNP'), ('DEVELOPMENT', 'NNP')]\n",
      "\n",
      "\n",
      "[('For', 'IN'), ('fifty', 'JJ'), ('years', 'NNS'), ('developing', 'VBG'), ('nation', 'NN')]\n",
      "\n",
      "\n",
      "[('It', 'PRP'), ('time', 'NN'), ('see', 'VB'), ('developed', 'JJ'), ('nation', 'NN')]\n",
      "\n",
      "\n",
      "[('We', 'PRP'), ('among', 'IN'), ('top', 'JJ'), ('five', 'CD'), ('nations', 'NNS'), ('world', 'NN'), ('terms', 'NNS'), ('GDP', 'VBP')]\n",
      "\n",
      "\n",
      "[('I', 'PRP'), ('THIRD', 'VBP'), ('VISION', 'NNP')]\n",
      "\n",
      "\n",
      "[('India', 'NNP'), ('must', 'MD'), ('stand', 'VB'), ('world', 'NN')]\n",
      "\n",
      "\n",
      "[('Because', 'IN'), ('I', 'PRP'), ('believe', 'VBP'), ('unless', 'IN'), ('India', 'NNP'), ('stands', 'VBZ'), ('world', 'NN'), ('one', 'CD'), ('respect', 'NN'), ('us', 'PRP')]\n",
      "\n",
      "\n",
      "[('Only', 'RB'), ('strength', 'NN'), ('respects', 'NNS'), ('strength', 'NN')]\n",
      "\n",
      "\n",
      "[('We', 'PRP'), ('must', 'MD'), ('strong', 'JJ'), ('military', 'JJ'), ('power', 'NN'), ('also', 'RB'), ('economic', 'JJ'), ('power', 'NN')]\n",
      "\n",
      "\n",
      "[('Both', 'DT'), ('must', 'MD'), ('go', 'VB')]\n",
      "\n",
      "\n",
      "[('My', 'PRP$'), ('good', 'JJ'), ('fortune', 'NN'), ('worked', 'VBD'), ('three', 'CD'), ('great', 'JJ'), ('minds', 'NNS')]\n",
      "\n",
      "\n",
      "[('Sarabhai', 'NNP'), ('Dept', 'NNP')]\n",
      "\n",
      "\n",
      "[('Space', 'NN'), ('Professor', 'NNP'), ('Satish', 'NNP'), ('Dhawan', 'NNP'), ('succeeded', 'VBD'), ('Brahm', 'NNP'), ('Prakash', 'NNP'), ('father', 'NN'), ('nuclear', 'JJ'), ('material', 'NN')]\n",
      "\n",
      "\n",
      "[('I', 'PRP'), ('lucky', 'VBP'), ('worked', 'VBD'), ('three', 'CD'), ('closely', 'RB'), ('consider', 'VBP'), ('great', 'JJ'), ('opportunity', 'NN'), ('life', 'NN')]\n",
      "\n",
      "\n",
      "[('I', 'PRP'), ('Hyderabad', 'VBP'), ('giving', 'VBG'), ('lecture', 'NN'), ('14', 'CD'), ('girl', 'NN'), ('asked', 'VBD'), ('autograph', 'NNS')]\n",
      "\n",
      "\n",
      "[('I', 'PRP'), ('asked', 'VBD'), ('goal', 'NN'), ('life', 'NN')]\n",
      "\n",
      "\n",
      "[('She', 'PRP'), ('replied', 'VBD'), ('I', 'PRP'), ('want', 'VBP'), ('live', 'JJ'), ('developed', 'VBN'), ('India', 'NNP')]\n",
      "\n",
      "\n",
      "[('For', 'IN'), ('I', 'PRP'), ('build', 'VBP'), ('developed', 'JJ'), ('India', 'NNP')]\n",
      "\n",
      "\n",
      "[('You', 'PRP'), ('must', 'MD'), ('proclaim', 'VB'), ('India', 'NNP'), ('underdeveloped', 'JJ'), ('nation', 'NN'), ('highly', 'RB'), ('developed', 'JJ'), ('nation', 'NN')]\n",
      "\n",
      "\n",
      "[('You', 'PRP'), ('say', 'VBP'), ('government', 'NN'), ('inefficient', 'NN')]\n",
      "\n",
      "\n",
      "[('You', 'PRP'), ('say', 'VBP'), ('laws', 'NNS'), ('old', 'JJ')]\n",
      "\n",
      "\n",
      "[('You', 'PRP'), ('say', 'VBP'), ('municipality', 'JJ'), ('pick', 'NN'), ('garbage', 'NN')]\n",
      "\n",
      "\n",
      "[('You', 'PRP'), ('say', 'VBP'), ('phones', 'NNS'), ('work', 'VBP'), ('railways', 'NNS'), ('joke', 'VBD'), ('airline', 'NN'), ('worst', 'JJS'), ('world', 'NN'), ('mails', 'VBZ'), ('never', 'RB'), ('reach', 'VBP'), ('destination', 'NN')]\n",
      "\n",
      "\n",
      "[('You', 'PRP'), ('say', 'VBP'), ('country', 'NN'), ('fed', 'VBD'), ('dogs', 'NNS'), ('absolute', 'VBP'), ('pits', 'NNS')]\n",
      "\n",
      "\n",
      "[('You', 'PRP'), ('say', 'VBP'), ('say', 'VBP'), ('say', 'VBP')]\n",
      "\n",
      "\n",
      "[('What', 'WP')]\n",
      "\n",
      "\n",
      "[('Dear', 'NNP'), ('Indians', 'NNPS'), ('I', 'PRP'), ('echoing', 'VBG'), ('words', 'NNS'), ('fellow', 'JJ'), ('Americans', 'NNPS'), ('relate', 'VBP'), ('Indians', 'NNS')]\n",
      "\n",
      "\n",
      "[('ASK', 'VB'), ('WHAT', 'WP'), ('WE', 'NNP'), ('CAN', 'NNP'), ('DO', 'NNP'), ('FOR', 'NNP'), ('INDIA', 'NNP'), ('AND', 'NNP'), ('DO', 'NNP'), ('WHAT', 'NNP'), ('HAS', 'NNP'), ('TO', 'NNP'), ('BE', 'NNP'), ('DONE', 'NNP'), ('TO', 'NNP'), ('MAKE', 'NNP'), ('INDIA', 'NNP'), ('WHAT', 'NNP'), ('AMERICA', 'NNP'), ('AND', 'NNP'), ('OTHER', 'NNP'), ('WESTERN', 'NNP'), ('COUNTRIES', 'NNP'), ('ARE', 'NNP'), ('TODAY', 'NNP')]\n",
      "\n",
      "\n"
     ]
    }
   ],
   "source": [
    "# Removing stopwords\n",
    "for i in range(len(sentences)):\n",
    "    words = word_tokenize(sentences[i])\n",
    "    words = [word for word in words if word.isalnum()]\n",
    "    words = [word for word in words if word not in stopwords.words('english')]\n",
    "    tagged_words = nltk.pos_tag(words) #pos tagging\n",
    "    print(tagged_words)\n",
    "    print(\"\\n\") "
   ]
  },
  {
   "cell_type": "code",
   "execution_count": 8,
   "metadata": {},
   "outputs": [
    {
     "name": "stdout",
     "output_type": "stream",
     "text": [
      "[('The', 'DT')]\n",
      "[('quick', 'NN')]\n",
      "[('brown', 'NN')]\n",
      "[('fox', 'NN')]\n",
      "[('jumps', 'NNS')]\n",
      "[('over', 'IN')]\n",
      "[('the', 'DT')]\n",
      "[('lazy', 'NN')]\n",
      "[('dog.', 'NN')]\n"
     ]
    }
   ],
   "source": [
    "# Simple Example\n",
    "# Note : pos_tag() function expects a list of words as input\n",
    "# so we are passing a list of words after splitting the sentence\n",
    "# or\n",
    "# we can use word_tokenize() function to split the sentence into words\n",
    "# and pass the list of words to pos_tag() function\n",
    "for i in \"The quick brown fox jumps over the lazy dog.\".split():\n",
    "    print(nltk.pos_tag([i]))"
   ]
  }
 ],
 "metadata": {
  "kernelspec": {
   "display_name": "base",
   "language": "python",
   "name": "python3"
  },
  "language_info": {
   "codemirror_mode": {
    "name": "ipython",
    "version": 3
   },
   "file_extension": ".py",
   "mimetype": "text/x-python",
   "name": "python",
   "nbconvert_exporter": "python",
   "pygments_lexer": "ipython3",
   "version": "3.11.5"
  }
 },
 "nbformat": 4,
 "nbformat_minor": 2
}
